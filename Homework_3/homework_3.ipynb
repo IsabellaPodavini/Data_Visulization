{
 "cells": [
  {
   "cell_type": "markdown",
   "metadata": {},
   "source": [
    "Homework 3\n",
    "\n",
    "1-Consider the karate club graph in the networkx distribution used in Lab5\n",
    "G = nx.karate_club_graph() Try to implement the Baryentric heuristic to sort nodes in the arc diagram and use nxviz to display the arc diagram sorted according to the heuristic and with nodes colored according to the node degree\n",
    "\n",
    "2-Load the spotify 30K songs dataset used in HW1. Consider the following tasks (and related target data)\n",
    "\n",
    "Using Plotly, create a treemap, representing the hierarchy of the playlist_genres and subgenres, with box sizes mapped from the number of items, and color mapped from the average popularity. Use a non-default, perceptually uniform sequential colormap and set the color range mapped to the whole range of potential values of the average popularity (0-100). Visualize the same hierarchy tree as a node-link diagram with node size proportional to the number of items, the color proportional to the average popularity\n",
    "\n",
    "Create a simple Dash app with the possibility of selecting the songs of different decades (1950-1960, 1961-1970,…) with a menu and the type of chart (treemap or sunburst) with another menu. The apps should show with the selected chart type the tree representation of the hierarchy: all->genres->subgenres"
   ]
  },
  {
   "cell_type": "code",
   "execution_count": null,
   "metadata": {},
   "outputs": [],
   "source": []
  }
 ],
 "metadata": {
  "language_info": {
   "name": "python"
  }
 },
 "nbformat": 4,
 "nbformat_minor": 2
}
